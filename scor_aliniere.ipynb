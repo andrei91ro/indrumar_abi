{
 "cells": [
  {
   "cell_type": "markdown",
   "metadata": {
    "slideshow": {
     "slide_type": "slide"
    }
   },
   "source": [
    "## Scorul unei alinieri\n",
    "\n",
    "Aşa cum se poate observa, există mai multe alinieri posibile pentru aceleaşi secvenţe. S## Scorul unei alinieri\n",
    "\n",
    "Aşa cum se poate observa, există mai multe alinieri posibile pentru aceleaşi secvenţe. Scorul unei alinieri reprezintă o valoare care estimează cât de bună este o aliniere.\n",
    "\n",
    "Pentru a alege cea mai bună aliniere trebuie să se ţină cont de semnificaţia biologică a secvenţelor şi de proprietaţile structurale ale elementelor componente. Astfel, în urma datelor experimentale şi statistice, s-au definit matrici de scoruri pentru alinieri.\n",
    "\n",
    "În calcularea scorului final al unei alinieri, potrivirile de caractere pot avea ponderi diferite sau egale, în funcţie de problemă.## Scorul unei alinieri\n",
    "\n",
    "Aşa cum se poate observa, există mai multe alinieri posibile pentru aceleaşi secvenţe. Scorul unei alinieri reprezintă o valoare care estimează cât de bună este o aliniere.\n",
    "\n",
    "Pentru a alege cea mai bună aliniere trebuie să se ţină cont de semnificaţia biologică a secvenţelor şi de proprietaţile structurale ale elementelor componente. Astfel, în urma datelor experimentale şi statistice, s-au definit matrici de scoruri pentru alinieri.\n",
    "\n",
    "În calcularea scorului final al unei alinieri, potrivirile de caractere pot avea ponderi diferite sau egale, în funcţie de problemă.corul unei alinieri reprezintă o valoare care estimează cât de bună este o aliniere.\n",
    "\n",
    "Pentru a alege cea mai bună aliniere trebuie să se ţină cont de semnificaţia biologică a secvenţelor şi de proprietaţile structurale ale elementelor componente. Astfel, în urma datelor experimentale şi statistice, s-au definit matrici de scoruri pentru alinieri.\n",
    "\n",
    "În calcularea scorului final al unei alinieri, potrivirile de caractere pot avea ponderi diferite sau egale, în funcţie de problemă."
   ]
  },
  {
   "cell_type": "markdown",
   "metadata": {
    "slideshow": {
     "slide_type": "subslide"
    }
   },
   "source": [
    "### Exemplu\n",
    "\n",
    "Un exemplu de matrice de scoruri pentru alinierea de secvenţe de nucleotide este următoarea:"
   ]
  },
  {
   "cell_type": "markdown",
   "metadata": {
    "slideshow": {
     "slide_type": "-"
    }
   },
   "source": [
    "<table style=\"font-family: 'Courier New'; font-size: 1.2em\">\n",
    "    <tr style=\"font-family: 'Courier New'\">\n",
    "        <th></th>\n",
    "        <th align=\"right\">A</th>\n",
    "        <th align=\"right\">T</th>\n",
    "        <th align=\"right\">C</th>\n",
    "        <th align=\"right\">G</th>\n",
    "        <th align=\"right\">-</th>\n",
    "    </tr>\n",
    "    <tr style=\"font-family: 'Courier New'\">\n",
    "        <th align=\"right\">A</th>\n",
    "        <td align=\"right\">1</td>\n",
    "        <td align=\"right\">-1</td>\n",
    "        <td align=\"right\">-1</td>\n",
    "        <td align=\"right\">-1</td>\n",
    "        <td align=\"right\">-5</td>\n",
    "    </tr>\n",
    "    <tr style=\"font-family: 'Courier New'\">\n",
    "        <th align=\"right\">T</th>\n",
    "        <td align=\"right\">-1</td>\n",
    "        <td align=\"right\">1</td>\n",
    "        <td align=\"right\">-1</td>\n",
    "        <td align=\"right\">-1</td>\n",
    "        <td align=\"right\">-5</td>\n",
    "    </tr>\n",
    "    <tr style=\"font-family: 'Courier New'\">\n",
    "        <th align=\"right\">C</th>\n",
    "        <td align=\"right\">-1</td>\n",
    "        <td align=\"right\">-1</td>\n",
    "        <td align=\"right\">1</td>\n",
    "        <td align=\"right\">-1</td>\n",
    "        <td align=\"right\">-5</td>\n",
    "    </tr>\n",
    "    <tr style=\"font-family: 'Courier New'\">\n",
    "        <th align=\"right\">G</th>\n",
    "        <td align=\"right\">-1</td>\n",
    "        <td align=\"right\">-1</td>\n",
    "        <td align=\"right\">-1</td>\n",
    "        <td align=\"right\">1</td>\n",
    "        <td align=\"right\">-5</td>\n",
    "    </tr>\n",
    "    <tr style=\"font-family: 'Courier New'\">\n",
    "        <th>-</th>\n",
    "        <td align=\"right\">-5</td>\n",
    "        <td align=\"right\">-5</td>\n",
    "        <td align=\"right\">-5</td>\n",
    "        <td align=\"right\">-5</td>\n",
    "        <td align=\"right\">0</td>\n",
    "    </tr>\n",
    "</table>"
   ]
  },
  {
   "cell_type": "markdown",
   "metadata": {
    "slideshow": {
     "slide_type": "subslide"
    }
   },
   "source": [
    "<div style=\"float:left; width: 40%\">\n",
    "    <p>\n",
    "    Scorul unei alinieri de două secvenţe se poate calcula adunând valorile corespunzatoare din\n",
    "        matrice pentru fiecare două nucleotide comparate.</p>\n",
    "<p>\n",
    "    Astfel, pentru următoarea aliniere:</p>\n",
    "<pre>\n",
    "        ATTTCAG-\n",
    "        -T--CAG-\n",
    "</pre>\n",
    "    <p> scorul `S` va fi:</p>\n",
    "</div>\n",
    "\n",
    "<table style=\"float:right;  font-size: 1.2em\">\n",
    "    <tr style=\"font-family: 'Courier New';font-size: 25\">\n",
    "        <th></th>\n",
    "        <th align=\"right\">A</th>\n",
    "        <th align=\"right\">T</th>\n",
    "        <th align=\"right\">C</th>\n",
    "        <th align=\"right\">G</th>\n",
    "        <th align=\"right\">-</th>\n",
    "    </tr>\n",
    "    <tr style=\"font-family: 'Courier New'\">\n",
    "        <th align=\"right\">A</th>\n",
    "        <td align=\"right\">1</td>\n",
    "        <td align=\"right\">-1</td>\n",
    "        <td align=\"right\">-1</td>\n",
    "        <td align=\"right\">-1</td>\n",
    "        <td align=\"right\">-5</td>\n",
    "    </tr>\n",
    "    <tr style=\"font-family: 'Courier New'\">\n",
    "        <th align=\"right\">T</th>\n",
    "        <td align=\"right\">-1</td>\n",
    "        <td align=\"right\">1</td>\n",
    "        <td align=\"right\">-1</td>\n",
    "        <td align=\"right\">-1</td>\n",
    "        <td align=\"right\">-5</td>\n",
    "    </tr>\n",
    "    <tr style=\"font-family: 'Courier New'\">\n",
    "        <th align=\"right\">C</th>\n",
    "        <td align=\"right\">-1</td>\n",
    "        <td align=\"right\">-1</td>\n",
    "        <td align=\"right\">1</td>\n",
    "        <td align=\"right\">-1</td>\n",
    "        <td align=\"right\">-5</td>\n",
    "    </tr>\n",
    "    <tr style=\"font-family: 'Courier New'\">\n",
    "        <th align=\"right\">G</th>\n",
    "        <td align=\"right\">-1</td>\n",
    "        <td align=\"right\">-1</td>\n",
    "        <td align=\"right\">-1</td>\n",
    "        <td align=\"right\">1</td>\n",
    "        <td align=\"right\">-5</td>\n",
    "    </tr>\n",
    "    <tr style=\"font-family: 'Courier New'\">\n",
    "        <th>-</th>\n",
    "        <td align=\"right\">-5</td>\n",
    "        <td align=\"right\">-5</td>\n",
    "        <td align=\"right\">-5</td>\n",
    "        <td align=\"right\">-5</td>\n",
    "        <td align=\"right\">0</td>\n",
    "    </tr>\n",
    "</table>"
   ]
  },
  {
   "cell_type": "markdown",
   "metadata": {
    "slideshow": {
     "slide_type": "fragment"
    }
   },
   "source": [
    "$ S = M(A, -) + M(T, T) + M(T, -) + M(T, -) + M(C, C) + M(A, A) + M(G, G) + M(-, -) $\n",
    "\n",
    "$ S = -5 + 1 -5 -5 + 1 + 1 + 1 + 0 $\n",
    "\n",
    "$ S = -11 $"
   ]
  },
  {
   "cell_type": "markdown",
   "metadata": {
    "slideshow": {
     "slide_type": "slide"
    }
   },
   "source": [
    " \n",
    "# Aplicații\n",
    "\n",
    "1. Să se scrie o funcţie ```print_align(seq1, seq2)``` care afişează un şir de caractere format din \"+\" şi \"-\", care arată dacă acele caractere de la poziţia i din două secvenţe deja aliniate coincid sau nu. De exemplu:\n",
    "```\n",
    "        RQASPQT-\n",
    "        RT-SP-TA\n",
    "        +--++-+-\n",
    "```"
   ]
  },
  {
   "cell_type": "markdown",
   "metadata": {
    "slideshow": {
     "slide_type": "subslide"
    }
   },
   "source": [
    "4. Să se implementeze o funcţie, `simple_score(seq1, seq2)`, care calculează scorul unei alinieri globale, calculat ca procentul de caractere aliniate corect din lungimea secvenţelor aliniate:\n",
    "\n",
    "    $ \\frac{nr\\_caractere\\_aliniate}{lungime\\_secv} * 100$\n"
   ]
  },
  {
   "cell_type": "markdown",
   "metadata": {
    "slideshow": {
     "slide_type": "slide"
    }
   },
   "source": [
    "# Aplicații BLOSUM\n",
    "\n",
    "Să se implementeze o funcţie, `blosum_score(seq1, seq2, gap = -8)`, care calculează scorul a doua secvenţe aliniate astfel:\n",
    "\n",
    "* când se întâlneşte `–`, se adună la scor valoarea `gap` (= -8)\n",
    "* în matricea BLOSUM, elementul `(i,j)` reprezintă valoarea care se adună la scor dacă se întalneşte aliniată perechea `P[i] – P[j]`, unde `P` este un vector care conţine codurile aminoacizilor în urmatoarea ordine:\n",
    "    ```python\n",
    "        P = \"ARNDCQEGHILKMFPSTWYVBZX*\"\n",
    "    ```\n",
    "* se observă că pe diagonala principală a matricii BLOSUM se găsesc valori pozitive deoarece corespund alinierii aceluiaşi aminoacid în ambele secvenţe\n",
    "* să se utilizeze matricea de scoruri BLOSUM `m`"
   ]
  },
  {
   "cell_type": "code",
   "execution_count": 42,
   "metadata": {
    "slideshow": {
     "slide_type": "subslide"
    }
   },
   "outputs": [
    {
     "name": "stdout",
     "output_type": "stream",
     "text": [
      "[[ 4 -1 -2 -2  0 -1 -1  0 -2 -1 -1 -1 -1 -2 -1  1  0 -3 -2  0 -2 -1  0 -4]\n",
      " [-1  5  0 -2 -3  1  0 -2  0 -3 -2  2 -1 -3 -2 -1 -1 -3 -2 -3 -1  0 -1 -4]\n",
      " [-2  0  6  1 -3  0  0  0  1 -3 -3  0 -2 -3 -2  1  0 -4 -2 -3  3  0 -1 -4]\n",
      " [-2 -2  1  6 -3  0  2 -1 -1 -3 -4 -1 -3 -3 -1  0 -1 -4 -3 -3  4  1 -1 -4]\n",
      " [ 0 -3 -3 -3  9 -3 -4 -3 -3 -1 -1 -3 -1 -2 -3 -1 -1 -2 -2 -1 -3 -3 -2 -4]\n",
      " [-1  1  0  0 -3  5  2 -2  0 -3 -2  1  0 -3 -1  0 -1 -2 -1 -2  0  3 -1 -4]\n",
      " [-1  0  0  2 -4  2  5 -2  0 -3 -3  1 -2 -3 -1  0 -1 -3 -2 -2  1  4 -1 -4]\n",
      " [ 0 -2  0 -1 -3 -2 -2  6 -2 -4 -4 -2 -3 -3 -2  0 -2 -2 -3 -3 -1 -2 -1 -4]\n",
      " [-2  0  1 -1 -3  0  0 -2  8 -3 -3 -1 -2 -1 -2 -1 -2 -2  2 -3  0  0 -1 -4]\n",
      " [-1 -3 -3 -3 -1 -3 -3 -4 -3  4  2 -3  1  0 -3 -2 -1 -3 -1  3 -3 -3 -1 -4]\n",
      " [-1 -2 -3 -4 -1 -2 -3 -4 -3  2  4 -2  2  0 -3 -2 -1 -2 -1  1 -4 -3 -1 -4]\n",
      " [-1  2  0 -1 -3  1  1 -2 -1 -3 -2  5 -1 -3 -1  0 -1 -3 -2 -2  0  1 -1 -4]\n",
      " [-1 -1 -2 -3 -1  0 -2 -3 -2  1  2 -1  5  0 -2 -1 -1 -1 -1  1 -3 -1 -1 -4]\n",
      " [-2 -3 -3 -3 -2 -3 -3 -3 -1  0  0 -3  0  6 -4 -2 -2  1  3 -1 -3 -3 -1 -4]\n",
      " [-1 -2 -2 -1 -3 -1 -1 -2 -2 -3 -3 -1 -2 -4  7 -1 -1 -4 -3 -2 -2 -1 -2 -4]\n",
      " [ 1 -1  1  0 -1  0  0  0 -1 -2 -2  0 -1 -2 -1  4  1 -3 -2 -2  0  0  0 -4]\n",
      " [ 0 -1  0 -1 -1 -1 -1 -2 -2 -1 -1 -1 -1 -2 -1  1  5 -2 -2  0 -1 -1  0 -4]\n",
      " [-3 -3 -4 -4 -2 -2 -3 -2 -2 -3 -2 -3 -1  1 -4 -3 -2 11  2 -3 -4 -3 -2 -4]\n",
      " [-2 -2 -2 -3 -2 -1 -2 -3  2 -1 -1 -2 -1  3 -3 -2 -2  2  7 -1 -3 -2 -1 -4]\n",
      " [ 0 -3 -3 -3 -1 -2 -2 -3 -3  3  1 -2  1 -1 -2 -2  0 -3 -1  4 -3 -2 -1 -4]\n",
      " [-2 -1  3  4 -3  0  1 -1  0 -3 -4  0 -3 -3 -2  0 -1 -4 -3 -3  4  1 -1 -4]\n",
      " [-1  0  0  1 -3  3  4 -2  0 -3 -3  1 -1 -3 -1  0 -1 -3 -2 -2  1  4 -1 -4]\n",
      " [ 0 -1 -1 -1 -2 -1 -1 -1 -1 -1 -1 -1 -1 -1 -2  0  0 -2 -1 -1 -1 -1 -1 -4]\n",
      " [-4 -4 -4 -4 -4 -4 -4 -4 -4 -4 -4 -4 -4 -4 -4 -4 -4 -4 -4 -4 -4 -4 -4  1]]\n",
      "(24, 24)\n",
      "4\n",
      "2\n"
     ]
    }
   ],
   "source": [
    "# rezolvare aplicatie\n",
    "\n",
    "P = \"ARNDCQEGHILKMFPSTWYVBZX-\"\n",
    "\n",
    "m = np.array( [[4, -1, -2, -2, 0, -1, -1, 0, -2, -1, -1, -1, -1, -2, -1, 1, 0, -3, -2, 0, -2, -1, 0, -4],\n",
    "[-1, 5, 0, -2, -3, 1, 0, -2, 0, -3, -2, 2, -1, -3, -2, -1, -1, -3, -2, -3, -1, 0, -1, -4],\n",
    "[-2, 0, 6, 1, -3, 0, 0, 0, 1, -3, -3, 0, -2, -3, -2, 1, 0, -4, -2, -3, 3, 0, -1, -4], \n",
    "[-2, -2, 1, 6, -3, 0, 2, -1, -1, -3, -4, -1, -3, -3, -1, 0, -1, -4, -3, -3, 4, 1, -1, -4], \n",
    "[ 0, -3, -3, -3, 9, -3, -4, -3, -3, -1, -1, -3, -1, -2, -3, -1, -1, -2, -2, -1, -3, -3, -2, -4], \n",
    "[ -1, 1, 0, 0, -3, 5, 2, -2, 0, -3, -2, 1, 0, -3, -1, 0, -1, -2, -1, -2, 0, 3, -1, -4], \n",
    "[-1, 0, 0, 2, -4, 2, 5, -2, 0, -3, -3, 1, -2, -3, -1, 0, -1, -3, -2, -2, 1, 4, -1, -4], \n",
    "[0, -2, 0, -1, -3, -2, -2, 6, -2, -4, -4, -2, -3, -3, -2, 0, -2, -2, -3, -3, -1, -2, -1, -4], \n",
    "[-2, 0, 1, -1, -3, 0, 0, -2, 8, -3, -3, -1, -2, -1, -2, -1, -2, -2, 2, -3, 0, 0, -1, -4], \n",
    "[-1, -3, -3, -3, -1, -3, -3, -4, -3, 4, 2, -3, 1, 0, -3, -2, -1, -3, -1, 3, -3, -3, -1, -4], \n",
    "[-1, -2, -3, -4, -1, -2, -3, -4, -3, 2, 4, -2, 2, 0, -3, -2, -1, -2, -1, 1, -4, -3, -1, -4], \n",
    "[-1, 2, 0, -1, -3, 1, 1, -2, -1, -3, -2, 5, -1, -3, -1, 0, -1, -3, -2, -2, 0, 1, -1, -4], \n",
    "[-1, -1, -2, -3, -1, 0, -2, -3, -2, 1, 2, -1, 5, 0, -2, -1, -1, -1, -1, 1, -3, -1, -1, -4], \n",
    "[-2, -3, -3, -3, -2, -3, -3, -3, -1, 0, 0, -3, 0, 6, -4, -2, -2, 1, 3, -1, -3, -3, -1, -4], \n",
    "[-1, -2, -2, -1, -3, -1, -1, -2, -2, -3, -3, -1, -2, -4, 7, -1, -1, -4, -3, -2, -2, -1, -2, -4], \n",
    "[1, -1, 1, 0, -1, 0, 0, 0, -1, -2, -2, 0, -1, -2, -1, 4, 1, -3, -2, -2, 0, 0, 0, -4], \n",
    "[0, -1, 0, -1, -1, -1, -1, -2, -2, -1, -1, -1, -1, -2, -1, 1, 5, -2, -2, 0, -1, -1, 0, -4], \n",
    "[-3, -3, -4, -4, -2, -2, -3, -2, -2, -3, -2, -3, -1, 1, -4, -3, -2, 11, 2, -3, -4, -3, -2, -4], \n",
    "[-2, -2, -2, -3, -2, -1, -2, -3, 2, -1, -1, -2, -1, 3, -3, -2, -2, 2, 7, -1, -3, -2, -1, -4], \n",
    "[0, -3, -3, -3, -1, -2, -2, -3, -3, 3, 1, -2, 1, -1, -2, -2, 0, -3, -1, 4, -3, -2, -1, -4], \n",
    "[-2, -1, 3, 4, -3, 0, 1, -1, 0, -3, -4, 0, -3, -3, -2, 0, -1, -4, -3, -3, 4, 1, -1, -4], \n",
    "[-1, 0, 0, 1, -3, 3, 4, -2, 0, -3, -3, 1, -1, -3, -1, 0, -1, -3, -2, -2, 1, 4, -1, -4], \n",
    "[0, -1, -1, -1, -2, -1, -1, -1, -1, -1, -1, -1, -1, -1, -2, 0, 0, -2, -1, -1, -1, -1, -1, -4], \n",
    "[-4, -4, -4, -4, -4, -4, -4, -4, -4, -4, -4, -4, -4, -4, -4, -4, -4, -4, -4, -4, -4, -4, -4, 1]]\n",
    " )\n",
    "\n",
    "print(m)\n",
    "print(m.shape)\n",
    "print(m[0, 0])\n",
    "print(P.index('N'))"
   ]
  },
  {
   "cell_type": "markdown",
   "metadata": {
    "slideshow": {
     "slide_type": "subslide"
    }
   },
   "source": [
    "2) Modificati sectiunea de cod de mai jos pentru a afisa grafic o serie de alinieri astfel:\n",
    " * fiecare aliniere pe un rand diferit\n",
    " * pentru gap-uri (`-`) se traseaza o linie colorata diferit fata de restul liniei corespunzatoare alinierii respective"
   ]
  },
  {
   "cell_type": "code",
   "execution_count": 25,
   "metadata": {
    "slideshow": {
     "slide_type": "fragment"
    }
   },
   "outputs": [
    {
     "data": {
      "image/png": "[encoded data removed]",
      "text/plain": [
       "<Figure size 432x288 with 1 Axes>"
      ]
     },
     "metadata": {
      "needs_background": "light"
     },
     "output_type": "display_data"
    }
   ],
   "source": [
    "%matplotlib inline\n",
    "from matplotlib import pyplot as plt\n",
    "from matplotlib import pylab\n",
    "'ATCG-G'\n",
    "'TTCGA-'\n",
    "' |||--'\n",
    "'------'\n",
    "'    --'\n",
    "x = [i for i in range(0, 10)]\n",
    "y = [1] * len(x)\n",
    "x1 = [2, 4]\n",
    "y1 = [1, 1]\n",
    "plt.plot(x, y, color='cyan', linewidth=2)\n",
    "# linia rosie se suprapune celei initiale\n",
    "plt.plot(x1, y1, color='red', linewidth=3)\n",
    "plt.grid(True, axis=\"x\")"
   ]
  }
 ],
 "metadata": {
  "kernelspec": {
   "display_name": "Python 3",
   "language": "python",
   "name": "python3"
  },
  "language_info": {
   "codemirror_mode": {
    "name": "ipython",
    "version": 3
   },
   "file_extension": ".py",
   "mimetype": "text/x-python",
   "name": "python",
   "nbconvert_exporter": "python",
   "pygments_lexer": "ipython3",
   "version": "3.8.6"
  },
  "widgets": {
   "application/vnd.jupyter.widget-state+json": {
    "state": {},
    "version_major": 2,
    "version_minor": 0
   }
  }
 },
 "nbformat": 4,
 "nbformat_minor": 4
}
