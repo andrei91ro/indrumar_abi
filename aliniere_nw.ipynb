{
 "cells": [
  {
   "cell_type": "markdown",
   "metadata": {
    "slideshow": {
     "slide_type": "slide"
    }
   },
   "source": [
    "## [Algoritmul Needleman–Wunsch](https://en.wikipedia.org/wiki/Needleman%E2%80%93Wunsch_algorithm)\n",
    "\n",
    "Problema dată este următoarea: Se dau două secvenţe, $x$ şi $y$, nu neapărat de aceeaşi dimensiune, peste alfabetul $\\Sigma$ şi o funcţie de scor  $s : \\Sigma × \\Sigma → Z$ .\n",
    "\n",
    "Se doreşte determinarea celei mai bune alinieri globale, folosind modelul liniar de penalizare a golurilor (gaps).\n",
    "Modelul liniar presupune o penalizare constantă pentru fiecare gol."
   ]
  },
  {
   "cell_type": "markdown",
   "metadata": {
    "slideshow": {
     "slide_type": "fragment"
    }
   },
   "source": [
    "\\begin{equation*}\n",
    "D[i,j] = max \\begin{cases}\n",
    "    D[i-1, j-1] + s(x_i, y_i) & \\\\\n",
    "    D[i-1, j] + g & \\\\\n",
    "    D[i, j-1] + g &\n",
    "\\end{cases}\n",
    "\\end{equation*}"
   ]
  },
  {
   "cell_type": "markdown",
   "metadata": {
    "slideshow": {
     "slide_type": "fragment"
    }
   },
   "source": [
    "\\begin{equation*}\n",
    "s(x, y) = \\begin{cases}\n",
    "    +1 & x = y \\\\\n",
    "    -1 & x \\neq y\n",
    "\\end{cases}\n",
    "\\end{equation*}"
   ]
  },
  {
   "cell_type": "markdown",
   "metadata": {
    "slideshow": {
     "slide_type": "subslide"
    }
   },
   "source": [
    "Ramurile formulei de calcul a scorului de aliniere $D[i,j]$ au următoarea semnificație:\n",
    "1. Corespunde cazului în care s-a realizat corespondenţa dintre caracterul $x_i$ şi caracterul $y_j$.\n",
    "\n",
    "    Este nevoie să se cunoască scorul alinierii lui $x_i$ cu $y_j$, adică $s(x_i, y_j)$ şi scorul celei mai bune alinieri dintre primele $i-1$ caractere din secvenţa $x$ şi primele $j-1$ caractere din secvenţa $y$, adică $D(i-1, j-1)$\n",
    "\n",
    "2. Corespunde cazului în care s-a realizat corespondenţa dintre caracterul $x_i$ şi un `gap`.\n",
    "\n",
    "    Este nevoie să se cunoască scorul celei mai bune alinieri dintre primele $i-1$ caractere din secvenţa $x$ şi primele $j$ caractere din\n",
    "secvenţa $y$, adică $D(i-1, j)$, la care se adaugă penalizarea de `gap`, $g$.\n",
    "\n",
    "3. Corespunde cazului în care s-a realizat corespondenţa dintre caracterul $y_i$ şi un `gap`.\n",
    "\n",
    "    Este nevoie să se cunoască scorul celei mai bune alinieri dintre primele $i$ caractere din secvenţa $x$ şi primele $j-1$ caractere din\n",
    "secvenţa $y$, adică $D(i, j-1)$, la care se adaugă penalizarea de `gap`, $g$."
   ]
  },
  {
   "cell_type": "markdown",
   "metadata": {
    "slideshow": {
     "slide_type": "slide"
    }
   },
   "source": [
    "### Studiu de caz\n",
    "\n",
    "Alinierea secvențelor:\n",
    "```\n",
    "    GCATGCU\n",
    "    GATTACA\n",
    "```\n",
    "\n",
    "Matricea inițială asociată algoritmului de programare dinamică este:"
   ]
  },
  {
   "cell_type": "markdown",
   "metadata": {
    "slideshow": {
     "slide_type": "fragment"
    }
   },
   "source": [
    "<table style=\"max-width: 40%; float: left;  font-size: 0.8em\">\n",
    "\n",
    "<thead>\n",
    "<tr>\n",
    "    <th align=\"right\"></th>\n",
    "    <th align=\"right\" style=\"border-right: 1px solid #BDBDBD;\"></th>\n",
    "    <th align=\"right\">-</th>\n",
    "    <th align=\"right\">G</th>\n",
    "    <th align=\"right\">C</th>\n",
    "    <th align=\"right\">A</th>\n",
    "    <th align=\"right\">T</th>\n",
    "    <th align=\"right\">G</th>\n",
    "    <th align=\"right\">C</th>\n",
    "    <th align=\"right\">U</th>\n",
    "</tr>\n",
    "    \n",
    "<tr>\n",
    "    <td align=\"right\"><b></b></td>\n",
    "    <td align=\"right\" style=\"border-right: 1px solid #BDBDBD;\"><b></b></td>\n",
    "    <td align=\"right\"><b>0</b></td>\n",
    "    <td align=\"right\"><b>1</b></td>\n",
    "    <td align=\"right\"><b>2</b></td>\n",
    "    <td align=\"right\"><b>3</b></td>\n",
    "    <td align=\"right\"><b>4</b></td>\n",
    "    <td align=\"right\"><b>5</b></td>\n",
    "    <td align=\"right\"><b>6</b></td>\n",
    "    <td align=\"right\"><b>7</b></td>\n",
    "</tr>\n",
    "    </thead>\n",
    "    <tbody>\n",
    "<tr>\n",
    "    <td align=\"right\"><b>-</b></td>\n",
    "        <td align=\"right\" style=\"border-right: 1px solid #BDBDBD;\"><b>0</b></td>\n",
    "    <td align=\"right\">0</td>\n",
    "    <td align=\"right\">-1</td>\n",
    "    <td align=\"right\">-2</td>\n",
    "    <td align=\"right\">-3</td>\n",
    "    <td align=\"right\">-4</td>\n",
    "    <td align=\"right\">-5</td>\n",
    "    <td align=\"right\">-6</td>\n",
    "    <td align=\"right\">-7</td>\n",
    "</tr>\n",
    "<tr>\n",
    "    <td align=\"right\"><b>G</b></td>\n",
    "        <td align=\"right\" style=\"border-right: 1px solid #BDBDBD;\"><b>1</b></td>\n",
    "    <td align=\"right\">-1</td>\n",
    "    <td align=\"right\"></td>\n",
    "    <td align=\"right\"></td>\n",
    "    <td align=\"right\"></td>\n",
    "    <td align=\"right\"></td>\n",
    "    <td align=\"right\"></td>\n",
    "    <td align=\"right\"></td>\n",
    "    <td align=\"right\"></td>\n",
    "</tr>\n",
    "<tr>\n",
    "    <td align=\"right\"><b>A</b></td>\n",
    "        <td align=\"right\" style=\"border-right: 1px solid #BDBDBD;\"><b>2</b></td>\n",
    "    <td align=\"right\">-2</td>\n",
    "    <td align=\"right\"></td>\n",
    "    <td align=\"right\"></td>\n",
    "    <td align=\"right\"></td>\n",
    "    <td align=\"right\"></td>\n",
    "    <td align=\"right\"></td>\n",
    "    <td align=\"right\"></td>\n",
    "    <td align=\"right\"></td>\n",
    "</tr>\n",
    "<tr>\n",
    "    <td align=\"right\"><b>T</b></td>\n",
    "        <td align=\"right\" style=\"border-right: 1px solid #BDBDBD;\"><b>3</b></td>\n",
    "    <td align=\"right\">-3</td>\n",
    "    <td align=\"right\"></td>\n",
    "    <td align=\"right\"></td>\n",
    "    <td align=\"right\"></td>\n",
    "    <td align=\"right\"></td>\n",
    "    <td align=\"right\"></td>\n",
    "    <td align=\"right\"></td>\n",
    "    <td align=\"right\"></td>\n",
    "</tr>\n",
    "<tr>\n",
    "    <td align=\"right\"><b>T</b></td>\n",
    "        <td align=\"right\" style=\"border-right: 1px solid #BDBDBD;\"><b>4</b></td>\n",
    "    <td align=\"right\">-4</td>\n",
    "    <td align=\"right\"></td>\n",
    "    <td align=\"right\"></td>\n",
    "    <td align=\"right\"></td>\n",
    "    <td align=\"right\"></td>\n",
    "    <td align=\"right\"></td>\n",
    "    <td align=\"right\"></td>\n",
    "    <td align=\"right\"></td>\n",
    "</tr>\n",
    "<tr>\n",
    "    <td align=\"right\"><b>A</b></td>\n",
    "        <td align=\"right\" style=\"border-right: 1px solid #BDBDBD;\"><b>5</b></td>\n",
    "    <td align=\"right\">-5</td>\n",
    "    <td align=\"right\"></td>\n",
    "    <td align=\"right\"></td>\n",
    "    <td align=\"right\"></td>\n",
    "    <td align=\"right\"></td>\n",
    "    <td align=\"right\"></td>\n",
    "    <td align=\"right\"></td>\n",
    "    <td align=\"right\"></td>\n",
    "</tr>\n",
    "<tr>\n",
    "    <td align=\"right\"><b>C</b></td>\n",
    "        <td align=\"right\" style=\"border-right: 1px solid #BDBDBD;\"><b>6</b></td>\n",
    "    <td align=\"right\">-6</td>\n",
    "    <td align=\"right\"></td>\n",
    "    <td align=\"right\"></td>\n",
    "    <td align=\"right\"></td>\n",
    "    <td align=\"right\"></td>\n",
    "    <td align=\"right\"></td>\n",
    "    <td align=\"right\"></td>\n",
    "    <td align=\"right\"></td>\n",
    "</tr>\n",
    "<tr>\n",
    "    <td align=\"right\"><b>A</b></td>\n",
    "        <td align=\"right\" style=\"border-right: 1px solid #BDBDBD;\"><b>7</b></td>\n",
    "    <td align=\"right\">-7</td>\n",
    "    <td align=\"right\"></td>\n",
    "    <td align=\"right\"></td>\n",
    "    <td align=\"right\"></td>\n",
    "    <td align=\"right\"></td>\n",
    "    <td align=\"right\"></td>\n",
    "    <td align=\"right\"></td>\n",
    "    <td align=\"right\"></td>\n",
    "</tr> \n",
    "</tbody>\n",
    "</table>\n",
    "\n",
    "<div style=\"float:right; width: 40%\">\n",
    "    Observații:\n",
    "    <ul>\n",
    "        <li>$D[0, 0] = 0$ </li>\n",
    "        <li>$D[i, 0] = i*g$, unde $g=-1$ în acest exemplu</li>\n",
    "        <li>$D[0, j] = j*g$, unde $g=-1$ în acest exemplu</li>\n",
    "    </ul>\n",
    "</div>"
   ]
  },
  {
   "cell_type": "markdown",
   "metadata": {
    "slideshow": {
     "slide_type": "slide"
    }
   },
   "source": [
    "# Aplicații\n",
    "\n",
    "1. Completați scheletul de cod de mai jos și testați implementarea algoritmului Needleman-Wunsch."
   ]
  },
  {
   "cell_type": "code",
   "execution_count": 1,
   "metadata": {
    "slideshow": {
     "slide_type": "subslide"
    }
   },
   "outputs": [
    {
     "name": "stdout",
     "output_type": "stream",
     "text": [
      "GCATGCU-------\n",
      "              \n",
      "-------GATTACA\n",
      "0\n"
     ]
    },
    {
     "data": {
      "text/html": [
       "<div>\n",
       "<style scoped>\n",
       "    .dataframe tbody tr th:only-of-type {\n",
       "        vertical-align: middle;\n",
       "    }\n",
       "\n",
       "    .dataframe tbody tr th {\n",
       "        vertical-align: top;\n",
       "    }\n",
       "\n",
       "    .dataframe thead th {\n",
       "        text-align: right;\n",
       "    }\n",
       "</style>\n",
       "<table border=\"1\" class=\"dataframe\">\n",
       "  <thead>\n",
       "    <tr style=\"text-align: right;\">\n",
       "      <th></th>\n",
       "      <th>-</th>\n",
       "      <th>G</th>\n",
       "      <th>C</th>\n",
       "      <th>A</th>\n",
       "      <th>T</th>\n",
       "      <th>G</th>\n",
       "      <th>C</th>\n",
       "      <th>U</th>\n",
       "    </tr>\n",
       "  </thead>\n",
       "  <tbody>\n",
       "    <tr>\n",
       "      <th>-</th>\n",
       "      <td>0</td>\n",
       "      <td>0</td>\n",
       "      <td>0</td>\n",
       "      <td>0</td>\n",
       "      <td>0</td>\n",
       "      <td>0</td>\n",
       "      <td>0</td>\n",
       "      <td>0</td>\n",
       "    </tr>\n",
       "    <tr>\n",
       "      <th>G</th>\n",
       "      <td>0</td>\n",
       "      <td>0</td>\n",
       "      <td>0</td>\n",
       "      <td>0</td>\n",
       "      <td>0</td>\n",
       "      <td>0</td>\n",
       "      <td>0</td>\n",
       "      <td>0</td>\n",
       "    </tr>\n",
       "    <tr>\n",
       "      <th>A</th>\n",
       "      <td>0</td>\n",
       "      <td>0</td>\n",
       "      <td>0</td>\n",
       "      <td>0</td>\n",
       "      <td>0</td>\n",
       "      <td>0</td>\n",
       "      <td>0</td>\n",
       "      <td>0</td>\n",
       "    </tr>\n",
       "    <tr>\n",
       "      <th>T</th>\n",
       "      <td>0</td>\n",
       "      <td>0</td>\n",
       "      <td>0</td>\n",
       "      <td>0</td>\n",
       "      <td>0</td>\n",
       "      <td>0</td>\n",
       "      <td>0</td>\n",
       "      <td>0</td>\n",
       "    </tr>\n",
       "    <tr>\n",
       "      <th>T</th>\n",
       "      <td>0</td>\n",
       "      <td>0</td>\n",
       "      <td>0</td>\n",
       "      <td>0</td>\n",
       "      <td>0</td>\n",
       "      <td>0</td>\n",
       "      <td>0</td>\n",
       "      <td>0</td>\n",
       "    </tr>\n",
       "    <tr>\n",
       "      <th>A</th>\n",
       "      <td>0</td>\n",
       "      <td>0</td>\n",
       "      <td>0</td>\n",
       "      <td>0</td>\n",
       "      <td>0</td>\n",
       "      <td>0</td>\n",
       "      <td>0</td>\n",
       "      <td>0</td>\n",
       "    </tr>\n",
       "    <tr>\n",
       "      <th>C</th>\n",
       "      <td>0</td>\n",
       "      <td>0</td>\n",
       "      <td>0</td>\n",
       "      <td>0</td>\n",
       "      <td>0</td>\n",
       "      <td>0</td>\n",
       "      <td>0</td>\n",
       "      <td>0</td>\n",
       "    </tr>\n",
       "    <tr>\n",
       "      <th>A</th>\n",
       "      <td>0</td>\n",
       "      <td>0</td>\n",
       "      <td>0</td>\n",
       "      <td>0</td>\n",
       "      <td>0</td>\n",
       "      <td>0</td>\n",
       "      <td>0</td>\n",
       "      <td>0</td>\n",
       "    </tr>\n",
       "  </tbody>\n",
       "</table>\n",
       "</div>"
      ]
     },
     "metadata": {},
     "output_type": "display_data"
    }
   ],
   "source": [
    "# rezolvare cerinta 1)\n",
    "\n",
    "import numpy as np\n",
    "import pandas as pd\n",
    "from IPython.display import display_html\n",
    "\n",
    "def simple(x, y):\n",
    "    if x == y:\n",
    "        return 1\n",
    "    else:\n",
    "        return -1\n",
    "\n",
    "def NeedlemanWunsch(seq1, seq2, scoreMatrix=simple, g = -1):\n",
    "    N = len(seq1)\n",
    "    M = len(seq2)\n",
    "    \n",
    "    seq1 = '#' + seq1\n",
    "    seq2 = '#' + seq2\n",
    "    \n",
    "    D = np.zeros((N+1, M+1), np.int32)\n",
    "    \n",
    "    #TODO - implementare algoritm\n",
    "  \n",
    "    # end TODO\n",
    "    \n",
    "    #determinarea sirurilor celor doua secvente aliniate:\n",
    "    align1 = ''\n",
    "    align2 = ''\n",
    "    i = N\n",
    "    j = M\n",
    "\n",
    "    \n",
    "    while i > 0 and j > 0:\n",
    "        score = D[i, j]\n",
    "        \n",
    "        if score == D[i-1, j-1] + scoreMatrix(seq1[i], seq2[j]):\n",
    "            align1 = seq1[i] + align1\n",
    "            align2 = seq2[j] + align2\n",
    "            i-=1\n",
    "            j-=1\n",
    "\n",
    "        elif score == D[i-1, j] + g:\n",
    "            align1 = seq1[i] + align1\n",
    "            align2 =     '-' + align2\n",
    "            i-=1\n",
    "            \n",
    "        else: # score == D[i, j-1] + d\n",
    "            align1 =     '-' + align1\n",
    "            align2 = seq2[j] + align2\n",
    "            j-=1\n",
    "    \n",
    "    align1 = '-'*j + seq1[1:i+1] + align1\n",
    "    align2 = '-'*i + seq2[1:j+1] + align2\n",
    "    \n",
    "    return (align1, align2, D[N, M], D)\n",
    "\n",
    "\n",
    "def displayAlignment(align1, align2):\n",
    "    print(align1)\n",
    "    \n",
    "    p = ''.join(map(lambda x, y: str(int(x==y)), align1, align2))\n",
    "    p = p.replace('1', '|')\n",
    "    p = p.replace('0', ' ')\n",
    "    print(p)\n",
    "    \n",
    "    print(align2)\n",
    "\n",
    "def displayMatrix(D, seq1, seq2):\n",
    "    D_for_print = pd.DataFrame(D, columns=list(\"-\" + seq1), index=list(\"-\" + seq2))\n",
    "#     D_for_print = D_for_print.set_index(keys=list(\"-\" + seq1))\n",
    "    display_html(D_for_print)\n",
    "\n",
    "x = 'GCATGCU'\n",
    "y = 'GATTACA'\n",
    "[a1, a2, sc, D] = NeedlemanWunsch(x, y)\n",
    "\n",
    "displayAlignment(a1,a2)\n",
    "print(sc)\n",
    "displayMatrix(D, x, y)"
   ]
  },
  {
   "cell_type": "markdown",
   "metadata": {
    "slideshow": {
     "slide_type": "subslide"
    }
   },
   "source": [
    "2. În implementarea prezentată s-a utilizat o funcţie de scor simplă, simple(c1, c2), care întoarce valoarea 1 în caz de potrivire a două caractere şi -1 în caz de nepotrivire.\n",
    "\n",
    "    Să se scrie o funcţie de scor, `BLOSUM(c1, c2)`, care să întoarcă valoarea corespunzatoare caracterelor `c1` şi `c2` din matricea BLOSUM.\n",
    "    \n",
    "    Să se testeze implementarea algoritmului, utilizând această funcţie de scor."
   ]
  },
  {
   "cell_type": "code",
   "execution_count": null,
   "metadata": {
    "slideshow": {
     "slide_type": "-"
    }
   },
   "outputs": [],
   "source": [
    "# rezolvare cerinta 2)"
   ]
  }
 ],
 "metadata": {
  "kernelspec": {
   "display_name": "Python 3",
   "language": "python",
   "name": "python3"
  },
  "language_info": {
   "codemirror_mode": {
    "name": "ipython",
    "version": 3
   },
   "file_extension": ".py",
   "mimetype": "text/x-python",
   "name": "python",
   "nbconvert_exporter": "python",
   "pygments_lexer": "ipython3",
   "version": "3.8.6"
  },
  "widgets": {
   "application/vnd.jupyter.widget-state+json": {
    "state": {},
    "version_major": 2,
    "version_minor": 0
   }
  }
 },
 "nbformat": 4,
 "nbformat_minor": 4
}
